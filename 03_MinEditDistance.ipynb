{
 "cells": [
  {
   "cell_type": "markdown",
   "metadata": {
    "id": "wt4sVtx0CqPh"
   },
   "source": [
    "# **Minimum Edit Distance 3**"
   ]
  },
  {
   "cell_type": "markdown",
   "metadata": {
    "id": "4ZpQZ813DSgW"
   },
   "source": [
    "# **Write up: Briefly Define your Algorithm**\n",
    "\n",
    "*Place your write up here as to how you implemented the minimum edit distance algorithm. Be as clear as you can, but don't over do it.*\n",
    "\n",
    "**Minimum Edit Distance**<br>\n",
    "I first make a matrix with the length of the target + 1 by the source + 1. I also initialize the matrix's first row and column by adding values from 0 to the length of the source + 1 for the row and the length of the target + 1 for the column. The algorithm starts at the index [1,1] wherein I check whether the character at the row index of the source matches the character at the column index of the target matches each other. If they do, then the I copy the value diagonally to the top left of it which becomes the new entry of the matrix, meaning it is a match. Otherwise, I get the values one index up + 1(insert), to the left + 1(delete), and diagonally to the top left + 2(mismatch) and choose which among the three is the minimum. Then the minimum will be the new entry in the matrix. I continue this as I traverse each index of the matrix from left to right and top to bottom. The last entry of the matrix will result to the minimum edit distance for the source and target strings.<br><br>\n",
    "**Backtracing**<br>\n",
    "For the back tracing portion, I had to traverse from the bottom right, to the top most index while choosing the path with the least weight. While in a loop, I choose between the value above, to the left, and diagonally to the top left whether which is the minimum. There are four conditions I have to check to know which minimum operation to use to help assign the alignments. I check for a mismatch, meaning the diagonal value is the minimum and is minus 2 of the current index, I check for a match wherein the diagonal value is the minimum and is the same as the current index, an insertion where the minium value is to the left of the current index, and lastly a delete operation which is one value above the current index. I have an operation string that keeps getting appendend with the minimum operation as I back trace throught the matrix. For the alignments, if I get a mismatch, I just copy both characters from the source and target's row and column index respectively. I do the same thing for a match. If I get an insertion, the target alignment gets a \"-\" character while the source alignment gets the column index of the original string. Lastly for a deletion, the source alignment gets a \"-\" character while the target alignment gets the character at the row index of the orginal string. "
   ]
  },
  {
   "cell_type": "markdown",
   "metadata": {
    "id": "nnzCsnf1E4V1"
   },
   "source": [
    "# **Solution**\n",
    "\n",
    "*Kindly place your solution in the code block below. You may use multiple code blocks if you see the need to do so.*"
   ]
  },
  {
   "cell_type": "code",
   "execution_count": 5,
   "metadata": {},
   "outputs": [],
   "source": [
    "i = 4\n",
    "j = 4"
   ]
  },
  {
   "cell_type": "code",
   "execution_count": 6,
   "metadata": {},
   "outputs": [
    {
     "data": {
      "text/plain": [
       "True"
      ]
     },
     "execution_count": 6,
     "metadata": {},
     "output_type": "execute_result"
    }
   ],
   "source": [
    "source, target = \"naruto's son\", \"boruto's dad\"\n",
    "source[i - 1] == target[j - 1]"
   ]
  },
  {
   "cell_type": "code",
   "execution_count": 7,
   "metadata": {},
   "outputs": [
    {
     "ename": "NameError",
     "evalue": "name 'matrix' is not defined",
     "output_type": "error",
     "traceback": [
      "\u001b[1;31m---------------------------------------------------------------------------\u001b[0m",
      "\u001b[1;31mNameError\u001b[0m                                 Traceback (most recent call last)",
      "Cell \u001b[1;32mIn[7], line 1\u001b[0m\n\u001b[1;32m----> 1\u001b[0m matrix[i][j] \u001b[38;5;241m=\u001b[39m \u001b[43mmatrix\u001b[49m[i \u001b[38;5;241m-\u001b[39m \u001b[38;5;241m1\u001b[39m][j \u001b[38;5;241m-\u001b[39m \u001b[38;5;241m1\u001b[39m]\n",
      "\u001b[1;31mNameError\u001b[0m: name 'matrix' is not defined"
     ]
    }
   ],
   "source": [
    "matrix[i][j] = matrix[i - 1][j - 1]"
   ]
  },
  {
   "cell_type": "code",
   "execution_count": null,
   "metadata": {},
   "outputs": [
    {
     "data": {
      "text/plain": [
       "[[0, 1, 2, 3, 4, 5, 6, 7, 8, 9, 10, 11, 12],\n",
       " [1, 0, 0, 0, 0, 0, 0, 0, 0, 0, 0, 0, 0],\n",
       " [2, 0, 0, 0, 0, 0, 0, 0, 0, 0, 0, 0, 0],\n",
       " [3, 0, 0, 0, 0, 0, 0, 0, 0, 0, 0, 0, 0],\n",
       " [4, 0, 0, 0, 0, 0, 0, 0, 0, 0, 0, 0, 0],\n",
       " [5, 0, 0, 0, 0, 0, 0, 0, 0, 0, 0, 0, 0],\n",
       " [6, 0, 0, 0, 0, 0, 0, 0, 0, 0, 0, 0, 0],\n",
       " [7, 0, 0, 0, 0, 0, 0, 0, 0, 0, 0, 0, 0],\n",
       " [8, 0, 0, 0, 0, 0, 0, 0, 0, 0, 0, 0, 0],\n",
       " [9, 0, 0, 0, 0, 0, 0, 0, 0, 0, 0, 0, 0],\n",
       " [10, 0, 0, 0, 0, 0, 0, 0, 0, 0, 0, 0, 0],\n",
       " [11, 0, 0, 0, 0, 0, 0, 0, 0, 0, 0, 0, 0],\n",
       " [12, 0, 0, 0, 0, 0, 0, 0, 0, 0, 0, 0, 0]]"
      ]
     },
     "execution_count": 40,
     "metadata": {},
     "output_type": "execute_result"
    }
   ],
   "source": [
    "matrix"
   ]
  },
  {
   "cell_type": "markdown",
   "metadata": {},
   "source": [
    "[[0, 1, 2, 3, 4, 5, 6, 7, 8, 9, 10, 11, 12],\n",
    " \n",
    " [1, 0, 0, 0, 0, 0, 0, 0, 0, 0, 0, 0, 0],\n",
    " \n",
    " [2, 0, 0, 0, 0, 0, 0, 0, 0, 0, 0, 0, 0],\n",
    " \n",
    " [3, 0, 0, 0, 0, 0, 0, 0, 0, 0, 0, 0, 0],\n",
    " \n",
    " [4, 0, 0, 0, 0, 0, 0, 0, 0, 0, 0, 0, 0],\n",
    " \n",
    " [5, 0, 0, 0, 0, 0, 0, 0, 0, 0, 0, 0, 0],\n",
    " \n",
    " [6, 0, 0, 0, 0, 0, 0, 0, 0, 0, 0, 0, 0],\n",
    " \n",
    " [7, 0, 0, 0, 0, 0, 0, 0, 0, 0, 0, 0, 0],\n",
    " \n",
    " [8, 0, 0, 0, 0, 0, 0, 0, 0, 0, 0, 0, 0],\n",
    " \n",
    " [9, 0, 0, 0, 0, 0, 0, 0, 0, 0, 0, 0, 0],\n",
    " \n",
    " [10, 0, 0, 0, 0, 0, 0, 0, 0, 0, 0, 0, 0],\n",
    " \n",
    " [11, 0, 0, 0, 0, 0, 0, 0, 0, 0, 0, 0, 0],\n",
    " \n",
    " [12, 0, 0, 0, 0, 0, 0, 0, 0, 0, 0, 0, 0]]"
   ]
  },
  {
   "cell_type": "code",
   "execution_count": 8,
   "metadata": {
    "id": "gfXU5Xc4E_ud"
   },
   "outputs": [],
   "source": [
    "def reverse(string):\n",
    "    string = string[::-1]\n",
    "    return string\n",
    "\n",
    "def getMinEditDistance(source, target):\n",
    "\n",
    "    matrix = [[0 for j in range(len(target)+1)] for i in range(len(source)+1)]# generate two dimentional array\n",
    "    \n",
    "    for i in range(len(source) + 1):\n",
    "        matrix[i][0] = i\n",
    "        # your code\n",
    "\n",
    "    for j in range(len(target) + 1):\n",
    "        matrix[0][j] = j\n",
    "        # your code\n",
    "    for i in range(1, len(source) + 1):\n",
    "        for j in range(1, len(target) + 1):\n",
    "            matrix[i][j] = min(matrix[i-1][j]+1,matrix[i][j-1]+1,matrix[i-1][j-1]+2*(source[i-1] != target[j-1]))\n",
    "            # your code\n",
    "\n",
    "            '''\n",
    "            if the both alphabets are equal, then there is no change and we get the number of step from previuos indexes\n",
    "            otherwise, there are three possible options, insert (1 step), delete (1 step) or mismatch (2 step)\n",
    "            at the end of iteration, we should return the min from 3 possible options.\n",
    "\n",
    "            result of the 3 step\n",
    "            '''\n",
    "    print(\"Source: \" + source)\n",
    "    print(\"Target: \" + target)\n",
    "    print(\"-----\")\n",
    "    print(\"Distance: \", matrix[len(source)][len(target)])\n",
    "    print(\"Aligment:\")\n",
    "            \n",
    "    # Backtracing\n",
    "    t_alignment, s_alignment = \"\", \"\"\n",
    "    t = [char for char in source]\n",
    "    s = [char for char in target]\n",
    "    row = len(source) \n",
    "    col = len(target) \n",
    "    trace = [[row, col]]\n",
    "    operations = \"\"\n",
    "    \n",
    "    while True: \n",
    "        up = matrix[row - 1][col]\n",
    "        left = matrix[row][col - 1]\n",
    "        diag = matrix[row - 1][col - 1]\n",
    "                \n",
    "        min_cost = min(up, left, diag)\n",
    "        \n",
    "        if matrix[row][col] == diag + 2:\n",
    "            operations += \"M\"\n",
    "            t_alignment += t[row - 1]\n",
    "            s_alignment += s[col - 1]\n",
    "            row -= 1\n",
    "            col -= 1\n",
    "           \n",
    "        elif min_cost == diag:\n",
    "            operations += \" \"\n",
    "            t_alignment += t[row - 1] \n",
    "            s_alignment += s[col - 1]\n",
    "            row -= 1\n",
    "            col -= 1    \n",
    "            \n",
    "        elif min_cost == left:\n",
    "            t_alignment += \"-\"\n",
    "            s_alignment += s[col - 1]\n",
    "            operations += \"I\"\n",
    "            col -= 1\n",
    "    \n",
    "        elif min_cost == up:\n",
    "            t_alignment += t[row - 1]\n",
    "            s_alignment += \"-\"\n",
    "            operations += \"D\"\n",
    "            row -= 1\n",
    "        \n",
    "        if row == 0 and col == 0:\n",
    "            break\n",
    "\n",
    "    print(reverse(t_alignment))\n",
    "    print(reverse(operations))\n",
    "    print(reverse(s_alignment))"
   ]
  },
  {
   "cell_type": "markdown",
   "metadata": {
    "id": "Z0g8gfIKukjx"
   },
   "source": [
    "#**Test Cases**\n",
    "\n",
    "**Legend**<br>\n",
    "I - Insert <br>\n",
    "D - Delete <br>\n",
    "M - Mismatch <br>\n",
    "\" \" - Match"
   ]
  },
  {
   "cell_type": "code",
   "execution_count": 27,
   "metadata": {},
   "outputs": [
    {
     "name": "stdout",
     "output_type": "stream",
     "text": [
      "Distance:  10\n",
      "Operations:\n",
      "Insert 1 b\n",
      "Replace 2 o\n",
      "Remove 3\n",
      "Insert 10 d\n",
      "Replace 11 a\n",
      "Remove 12\n",
      "Replace 12 d\n",
      "Aligment:\n",
      "naruto's son\n",
      "MM       MMM\n",
      "boruto's dad\n"
     ]
    }
   ],
   "source": [
    "getMinEditDistance(\"naruto's son\", \"boruto's dad\")"
   ]
  },
  {
   "cell_type": "code",
   "execution_count": 28,
   "metadata": {},
   "outputs": [
    {
     "name": "stdout",
     "output_type": "stream",
     "text": [
      "Distance:  2\n",
      "Operations:\n",
      "Remove 5\n",
      "Remove 5\n",
      "Aligment:\n",
      "kumakain\n",
      "    DD  \n",
      "kuma--in\n"
     ]
    }
   ],
   "source": [
    "getMinEditDistance(\"kumakain\", \"kumain\")"
   ]
  },
  {
   "cell_type": "code",
   "execution_count": 29,
   "metadata": {},
   "outputs": [
    {
     "name": "stdout",
     "output_type": "stream",
     "text": [
      "Distance:  5\n",
      "Operations:\n",
      "Insert 4 e\n",
      "Remove 5\n",
      "Insert 7 h\n",
      "Insert 9 e\n",
      "Remove 11\n",
      "Aligment:\n",
      "levins-tie-n\n",
      "   M  I D I \n",
      "levensht-ein\n"
     ]
    }
   ],
   "source": [
    "getMinEditDistance(\"levinstien\", \"levenshtein\")"
   ]
  },
  {
   "cell_type": "code",
   "execution_count": 30,
   "metadata": {},
   "outputs": [
    {
     "name": "stdout",
     "output_type": "stream",
     "text": [
      "Distance:  10\n",
      "Operations:\n",
      "Insert 4 e\n",
      "Insert 5 n\n",
      "Insert 6 s\n",
      "Replace 7 h\n",
      "Remove 8\n",
      "Insert 9 e\n",
      "Replace 10 i\n",
      "Remove 11\n",
      "Aligment:\n",
      "lev--iathan\n",
      "   IIMM MM \n",
      "levenshtein\n"
     ]
    }
   ],
   "source": [
    "getMinEditDistance(\"leviathan\", \"levenshtein\")"
   ]
  },
  {
   "cell_type": "code",
   "execution_count": 31,
   "metadata": {},
   "outputs": [
    {
     "name": "stdout",
     "output_type": "stream",
     "text": [
      "Distance:  11\n",
      "Operations:\n",
      "Remove 1\n",
      "Remove 2\n",
      "Insert 3 T\n",
      "Insert 6 A\n",
      "Insert 7 T\n",
      "Remove 9\n",
      "Remove 10\n",
      "Remove 10\n",
      "Remove 11\n",
      "Replace 11 T\n",
      "Aligment:\n",
      "ATGC-ATCCCAT--GAC\n",
      "D D I  DDD  II DM\n",
      "-T-CTAT---ATCCG-T\n"
     ]
    }
   ],
   "source": [
    "getMinEditDistance(\"ATGCATCCCATGAC\", \"TCTATATCCGT\")"
   ]
  },
  {
   "cell_type": "code",
   "execution_count": 32,
   "metadata": {},
   "outputs": [
    {
     "name": "stdout",
     "output_type": "stream",
     "text": [
      "Distance:  18\n",
      "Operations:\n",
      "Insert 1 T\n",
      "Remove 4\n",
      "Remove 10\n",
      "Remove 11\n",
      "Replace 15 G\n",
      "Remove 16\n",
      "Remove 17\n",
      "Insert 19 T\n",
      "Remove 21\n",
      "Insert 23 T\n",
      "Insert 25 T\n",
      "Insert 30 G\n",
      "Remove 32\n",
      "Remove 33\n",
      "Insert 35 T\n",
      "Insert 36 C\n",
      "Insert 37 C\n",
      "Aligment:\n",
      "-AGGCTATCACCTGACCTCCAGG-CCGAT--GCCC-ACCTGG---\n",
      "I  D       DD    M DD  I D   II    I  DD  III\n",
      "TAG-CTATCAC--GACCGC--GGTC-GATTTGCCCGAC--GGTCC\n"
     ]
    }
   ],
   "source": [
    "getMinEditDistance(\"AGGCTATCACCTGACCTCCAGGCCGATGCCCACCTGG\", \"TAGCTATCACGACCGCGGTCGATTTGCCCGACGGTCC\")"
   ]
  },
  {
   "cell_type": "markdown",
   "metadata": {},
   "source": [
    "### Your tasks-1:\n",
    "\n",
    "Run the function getMinEditDistance(source, target) on the following test cases:\n",
    "\n",
    "* \"kitten\" → \"sitting\"\n",
    "\n",
    "* \"flaw\" → \"lawn\"\n",
    "\n",
    "* \"intention\" → \"execution\"\n",
    "\n",
    "Write down:\n",
    "\n",
    "* the edit distance,\n",
    "\n",
    "* the sequence of operations (Insertion I, Deletion D, Mismatch M),\n",
    "\n",
    "* and the final alignment printed."
   ]
  },
  {
   "cell_type": "code",
   "execution_count": 33,
   "metadata": {},
   "outputs": [],
   "source": [
    "def reverse(string):\n",
    "    string = string[::-1]\n",
    "    return string\n",
    "\n",
    "def getMinEditDistance(source, target):\n",
    "\n",
    "    matrix = [[0 for j in range(len(target)+1)] for i in range(len(source)+1)]# generate two dimentional array\n",
    "    \n",
    "    for i in range(len(source) + 1):\n",
    "        matrix[i][0] = i\n",
    "        # your code\n",
    "\n",
    "    for j in range(len(target) + 1):\n",
    "        matrix[0][j] = j\n",
    "        # your code\n",
    "    for i in range(1, len(source) + 1):\n",
    "        for j in range(1, len(target) + 1):\n",
    "            matrix[i][j] = min(matrix[i-1][j]+1,matrix[i][j-1]+1,matrix[i-1][j-1]+2*(source[i-1] != target[j-1]))\n",
    "            # your code\n",
    "\n",
    "            '''\n",
    "            if the both alphabets are equal, then there is no change and we get the number of step from previuos indexes\n",
    "            otherwise, there are three possible options, insert (1 step), delete (1 step) or mismatch (2 step)\n",
    "            at the end of iteration, we should return the min from 3 possible options.\n",
    "\n",
    "            result of the 3 step\n",
    "            '''\n",
    "    print(\"Distance: \", matrix[len(source)][len(target)])\n",
    "    row = len(source)\n",
    "    col = len(target)\n",
    "    operations = []\n",
    "    while row > 0 or col > 0:\n",
    "        if row == 0:\n",
    "            operations.append(\"Insert \"+str(col)+\" \"+str(target[col-1]))\n",
    "            col -= 1\n",
    "        elif col == 0:\n",
    "            operations.append(\"Remove \"+str(col+1))\n",
    "            row -= 1\n",
    "        else:\n",
    "            if matrix[row][col] == matrix[row-1][col-1]+2*(source[row-1] != target[col-1]):\n",
    "                if source[row-1] != target[col-1]:\n",
    "                    operations.append(\"Replace \"+str(col)+\" \"+str(target[col-1]))\n",
    "                row -= 1\n",
    "                col -= 1\n",
    "            if matrix[row][col] == matrix[row-1][col]+1:\n",
    "                operations.append(\"Remove \"+str(col+1))\n",
    "                row -= 1\n",
    "            elif matrix[row][col] == matrix[row][col-1]+1:\n",
    "                operations.append(\"Insert \"+str(col)+\" \"+target[col-1])\n",
    "                col -= 1\n",
    "    print(\"Operations:\")\n",
    "    operations = reversed(operations)\n",
    "    for op in operations:\n",
    "        print(op)\n",
    "    print(\"Aligment:\")\n",
    "            \n",
    "    # Backtracing\n",
    "    t_alignment, s_alignment = \"\", \"\"\n",
    "    t = [char for char in source]\n",
    "    s = [char for char in target]\n",
    "    row = len(source) \n",
    "    col = len(target) \n",
    "    trace = [[row, col]]\n",
    "    operations = \"\"\n",
    "    \n",
    "    while True: \n",
    "        up = matrix[row - 1][col]\n",
    "        left = matrix[row][col - 1]\n",
    "        diag = matrix[row - 1][col - 1]\n",
    "                \n",
    "        min_cost = min(up, left, diag)\n",
    "        \n",
    "        if matrix[row][col] == diag + 2:\n",
    "            operations += \"M\"\n",
    "            t_alignment += t[row - 1]\n",
    "            s_alignment += s[col - 1]\n",
    "            row -= 1\n",
    "            col -= 1\n",
    "           \n",
    "        elif min_cost == diag:\n",
    "            operations += \" \"\n",
    "            t_alignment += t[row - 1] \n",
    "            s_alignment += s[col - 1]\n",
    "            row -= 1\n",
    "            col -= 1    \n",
    "            \n",
    "        elif min_cost == left:\n",
    "            t_alignment += \"-\"\n",
    "            s_alignment += s[col - 1]\n",
    "            operations += \"I\"\n",
    "            col -= 1\n",
    "    \n",
    "        elif min_cost == up:\n",
    "            t_alignment += t[row - 1]\n",
    "            s_alignment += \"-\"\n",
    "            operations += \"D\"\n",
    "            row -= 1\n",
    "        \n",
    "        if row == 0 and col == 0:\n",
    "            break\n",
    "\n",
    "    print(reverse(t_alignment))\n",
    "    print(reverse(operations))\n",
    "    print(reverse(s_alignment))"
   ]
  },
  {
   "cell_type": "markdown",
   "metadata": {},
   "source": [
    "### Your tasks-2:\n",
    "Extend the algorithm:\n",
    "Modify the function so that:\n",
    "\n",
    "Insertion = 1\n",
    "\n",
    "Deletion = 1\n",
    "\n",
    "Substitution = 1\n",
    "\n",
    "(Bonus) Transposition of two adjacent characters = 1\n",
    "\n",
    "Test your new algorithm on:\n",
    "\n",
    "\"abcd\" → \"acbd\""
   ]
  },
  {
   "cell_type": "code",
   "execution_count": 5,
   "metadata": {},
   "outputs": [
    {
     "name": "stdout",
     "output_type": "stream",
     "text": [
      "Distance:  1\n",
      "Distance:  6\n",
      "Distance:  5\n"
     ]
    }
   ],
   "source": [
    "def reverse(string):\n",
    "    string = string[::-1]\n",
    "    return string\n",
    "\n",
    "def getMinEditDistance(source, target):\n",
    "\n",
    "    matrix = [[0 for j in range(len(target)+1)] for i in range(len(source)+1)]# generate two dimentional array\n",
    "    \n",
    "    for i in range(len(source) + 1):\n",
    "        matrix[i][0] = i\n",
    "        # your code\n",
    "\n",
    "    for j in range(len(target) + 1):\n",
    "        matrix[0][j] = j\n",
    "        # your code\n",
    "    for i in range(1, len(source) + 1):\n",
    "        for j in range(1, len(target) + 1):\n",
    "            matrix[i][j] = min(matrix[i-1][j]+1,matrix[i][j-1]+1,matrix[i-1][j-1]+(source[i-1] != target[j-1]))\n",
    "            if i >= 2 and source[i-2] == target[j-1]:\n",
    "                for k in range(1, j):\n",
    "                    if source[i-1] == target[k-1]:\n",
    "                        matrix[i][j] = min(matrix[i][j],matrix[i-2][k-1]+(j-k-1)+1)\n",
    "            if j >= 2 and source[i-1] == target[j-2]:\n",
    "                for k in range(1,i):\n",
    "                    if source[k-1] == target[j-1]:\n",
    "                        matrix[i][j] = min(matrix[i][j],matrix[k-1][j-2]+(i-k-1)+1)\n",
    "    print(\"Distance: \", matrix[len(source)][len(target)])\n",
    "getMinEditDistance(\"abcd\",\"acbd\") \n",
    "getMinEditDistance(\"ac\",\"cbbbbba\")\n",
    "getMinEditDistance(\"abbbbc\",\"ca\")"
   ]
  }
 ],
 "metadata": {
  "colab": {
   "name": "PA3_MinEditDistance_template.ipynb",
   "provenance": []
  },
  "kernelspec": {
   "display_name": "Python 3",
   "language": "python",
   "name": "python3"
  },
  "language_info": {
   "codemirror_mode": {
    "name": "ipython",
    "version": 3
   },
   "file_extension": ".py",
   "mimetype": "text/x-python",
   "name": "python",
   "nbconvert_exporter": "python",
   "pygments_lexer": "ipython3",
   "version": "3.11.9"
  }
 },
 "nbformat": 4,
 "nbformat_minor": 4
}
